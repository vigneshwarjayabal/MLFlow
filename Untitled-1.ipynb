{
 "cells": [
  {
   "cell_type": "markdown",
   "metadata": {},
   "source": [
    "**Web Scraping using python selenium**"
   ]
  },
  {
   "cell_type": "code",
   "execution_count": 21,
   "metadata": {},
   "outputs": [
    {
     "ename": "ElementClickInterceptedException",
     "evalue": "Message: element click intercepted: Element <span data-lazy=\"true\" class=\"innerSpan\">...</span> is not clickable at point (205, 132). Other element would receive the click: <span data-lazy=\"true\" class=\"innerSpan\">...</span>\n  (Session info: chrome=132.0.6834.84)\nStacktrace:\n\tGetHandleVerifier [0x00007FF6D32EFBE5+28741]\n\t(No symbol) [0x00007FF6D3257890]\n\t(No symbol) [0x00007FF6D30F4FDA]\n\t(No symbol) [0x00007FF6D3151048]\n\t(No symbol) [0x00007FF6D314EA92]\n\t(No symbol) [0x00007FF6D314BBA1]\n\t(No symbol) [0x00007FF6D314AB01]\n\t(No symbol) [0x00007FF6D313C574]\n\t(No symbol) [0x00007FF6D316FF0A]\n\t(No symbol) [0x00007FF6D313BE46]\n\t(No symbol) [0x00007FF6D3170120]\n\t(No symbol) [0x00007FF6D31900B4]\n\t(No symbol) [0x00007FF6D316FCB3]\n\t(No symbol) [0x00007FF6D3139FB3]\n\t(No symbol) [0x00007FF6D313B331]\n\tGetHandleVerifier [0x00007FF6D362A73D+3414941]\n\tGetHandleVerifier [0x00007FF6D363E64A+3496618]\n\tGetHandleVerifier [0x00007FF6D363413D+3454365]\n\tGetHandleVerifier [0x00007FF6D33B848B+850155]\n\t(No symbol) [0x00007FF6D32637FF]\n\t(No symbol) [0x00007FF6D325F0C4]\n\t(No symbol) [0x00007FF6D325F25D]\n\t(No symbol) [0x00007FF6D324E079]\n\tBaseThreadInitThunk [0x00007FFE3A01259D+29]\n\tRtlUserThreadStart [0x00007FFE3A16AF38+40]\n",
     "output_type": "error",
     "traceback": [
      "\u001b[1;31m---------------------------------------------------------------------------\u001b[0m",
      "\u001b[1;31mElementClickInterceptedException\u001b[0m          Traceback (most recent call last)",
      "Cell \u001b[1;32mIn[21], line 14\u001b[0m\n\u001b[0;32m     12\u001b[0m Used_Cars\u001b[38;5;241m.\u001b[39mclick()\n\u001b[0;32m     13\u001b[0m Your_City \u001b[38;5;241m=\u001b[39m driver\u001b[38;5;241m.\u001b[39mfind_element(By\u001b[38;5;241m.\u001b[39mXPATH,\u001b[38;5;124m'\u001b[39m\u001b[38;5;124m/html/body/div[2]/div[1]/header/div[2]/div/div/nav/ul/li[2]/ul/li[2]/span/span\u001b[39m\u001b[38;5;124m'\u001b[39m)\n\u001b[1;32m---> 14\u001b[0m \u001b[43mYour_City\u001b[49m\u001b[38;5;241;43m.\u001b[39;49m\u001b[43mclick\u001b[49m\u001b[43m(\u001b[49m\u001b[43m)\u001b[49m\n",
      "File \u001b[1;32mc:\\Users\\vicky\\AppData\\Local\\Programs\\Python\\Python312\\Lib\\site-packages\\selenium\\webdriver\\remote\\webelement.py:94\u001b[0m, in \u001b[0;36mWebElement.click\u001b[1;34m(self)\u001b[0m\n\u001b[0;32m     92\u001b[0m \u001b[38;5;28;01mdef\u001b[39;00m \u001b[38;5;21mclick\u001b[39m(\u001b[38;5;28mself\u001b[39m) \u001b[38;5;241m-\u001b[39m\u001b[38;5;241m>\u001b[39m \u001b[38;5;28;01mNone\u001b[39;00m:\n\u001b[0;32m     93\u001b[0m \u001b[38;5;250m    \u001b[39m\u001b[38;5;124;03m\"\"\"Clicks the element.\"\"\"\u001b[39;00m\n\u001b[1;32m---> 94\u001b[0m     \u001b[38;5;28;43mself\u001b[39;49m\u001b[38;5;241;43m.\u001b[39;49m\u001b[43m_execute\u001b[49m\u001b[43m(\u001b[49m\u001b[43mCommand\u001b[49m\u001b[38;5;241;43m.\u001b[39;49m\u001b[43mCLICK_ELEMENT\u001b[49m\u001b[43m)\u001b[49m\n",
      "File \u001b[1;32mc:\\Users\\vicky\\AppData\\Local\\Programs\\Python\\Python312\\Lib\\site-packages\\selenium\\webdriver\\remote\\webelement.py:395\u001b[0m, in \u001b[0;36mWebElement._execute\u001b[1;34m(self, command, params)\u001b[0m\n\u001b[0;32m    393\u001b[0m     params \u001b[38;5;241m=\u001b[39m {}\n\u001b[0;32m    394\u001b[0m params[\u001b[38;5;124m\"\u001b[39m\u001b[38;5;124mid\u001b[39m\u001b[38;5;124m\"\u001b[39m] \u001b[38;5;241m=\u001b[39m \u001b[38;5;28mself\u001b[39m\u001b[38;5;241m.\u001b[39m_id\n\u001b[1;32m--> 395\u001b[0m \u001b[38;5;28;01mreturn\u001b[39;00m \u001b[38;5;28;43mself\u001b[39;49m\u001b[38;5;241;43m.\u001b[39;49m\u001b[43m_parent\u001b[49m\u001b[38;5;241;43m.\u001b[39;49m\u001b[43mexecute\u001b[49m\u001b[43m(\u001b[49m\u001b[43mcommand\u001b[49m\u001b[43m,\u001b[49m\u001b[43m \u001b[49m\u001b[43mparams\u001b[49m\u001b[43m)\u001b[49m\n",
      "File \u001b[1;32mc:\\Users\\vicky\\AppData\\Local\\Programs\\Python\\Python312\\Lib\\site-packages\\selenium\\webdriver\\remote\\webdriver.py:384\u001b[0m, in \u001b[0;36mWebDriver.execute\u001b[1;34m(self, driver_command, params)\u001b[0m\n\u001b[0;32m    382\u001b[0m response \u001b[38;5;241m=\u001b[39m \u001b[38;5;28mself\u001b[39m\u001b[38;5;241m.\u001b[39mcommand_executor\u001b[38;5;241m.\u001b[39mexecute(driver_command, params)\n\u001b[0;32m    383\u001b[0m \u001b[38;5;28;01mif\u001b[39;00m response:\n\u001b[1;32m--> 384\u001b[0m     \u001b[38;5;28;43mself\u001b[39;49m\u001b[38;5;241;43m.\u001b[39;49m\u001b[43merror_handler\u001b[49m\u001b[38;5;241;43m.\u001b[39;49m\u001b[43mcheck_response\u001b[49m\u001b[43m(\u001b[49m\u001b[43mresponse\u001b[49m\u001b[43m)\u001b[49m\n\u001b[0;32m    385\u001b[0m     response[\u001b[38;5;124m\"\u001b[39m\u001b[38;5;124mvalue\u001b[39m\u001b[38;5;124m\"\u001b[39m] \u001b[38;5;241m=\u001b[39m \u001b[38;5;28mself\u001b[39m\u001b[38;5;241m.\u001b[39m_unwrap_value(response\u001b[38;5;241m.\u001b[39mget(\u001b[38;5;124m\"\u001b[39m\u001b[38;5;124mvalue\u001b[39m\u001b[38;5;124m\"\u001b[39m, \u001b[38;5;28;01mNone\u001b[39;00m))\n\u001b[0;32m    386\u001b[0m     \u001b[38;5;28;01mreturn\u001b[39;00m response\n",
      "File \u001b[1;32mc:\\Users\\vicky\\AppData\\Local\\Programs\\Python\\Python312\\Lib\\site-packages\\selenium\\webdriver\\remote\\errorhandler.py:232\u001b[0m, in \u001b[0;36mErrorHandler.check_response\u001b[1;34m(self, response)\u001b[0m\n\u001b[0;32m    230\u001b[0m         alert_text \u001b[38;5;241m=\u001b[39m value[\u001b[38;5;124m\"\u001b[39m\u001b[38;5;124malert\u001b[39m\u001b[38;5;124m\"\u001b[39m]\u001b[38;5;241m.\u001b[39mget(\u001b[38;5;124m\"\u001b[39m\u001b[38;5;124mtext\u001b[39m\u001b[38;5;124m\"\u001b[39m)\n\u001b[0;32m    231\u001b[0m     \u001b[38;5;28;01mraise\u001b[39;00m exception_class(message, screen, stacktrace, alert_text)  \u001b[38;5;66;03m# type: ignore[call-arg]  # mypy is not smart enough here\u001b[39;00m\n\u001b[1;32m--> 232\u001b[0m \u001b[38;5;28;01mraise\u001b[39;00m exception_class(message, screen, stacktrace)\n",
      "\u001b[1;31mElementClickInterceptedException\u001b[0m: Message: element click intercepted: Element <span data-lazy=\"true\" class=\"innerSpan\">...</span> is not clickable at point (205, 132). Other element would receive the click: <span data-lazy=\"true\" class=\"innerSpan\">...</span>\n  (Session info: chrome=132.0.6834.84)\nStacktrace:\n\tGetHandleVerifier [0x00007FF6D32EFBE5+28741]\n\t(No symbol) [0x00007FF6D3257890]\n\t(No symbol) [0x00007FF6D30F4FDA]\n\t(No symbol) [0x00007FF6D3151048]\n\t(No symbol) [0x00007FF6D314EA92]\n\t(No symbol) [0x00007FF6D314BBA1]\n\t(No symbol) [0x00007FF6D314AB01]\n\t(No symbol) [0x00007FF6D313C574]\n\t(No symbol) [0x00007FF6D316FF0A]\n\t(No symbol) [0x00007FF6D313BE46]\n\t(No symbol) [0x00007FF6D3170120]\n\t(No symbol) [0x00007FF6D31900B4]\n\t(No symbol) [0x00007FF6D316FCB3]\n\t(No symbol) [0x00007FF6D3139FB3]\n\t(No symbol) [0x00007FF6D313B331]\n\tGetHandleVerifier [0x00007FF6D362A73D+3414941]\n\tGetHandleVerifier [0x00007FF6D363E64A+3496618]\n\tGetHandleVerifier [0x00007FF6D363413D+3454365]\n\tGetHandleVerifier [0x00007FF6D33B848B+850155]\n\t(No symbol) [0x00007FF6D32637FF]\n\t(No symbol) [0x00007FF6D325F0C4]\n\t(No symbol) [0x00007FF6D325F25D]\n\t(No symbol) [0x00007FF6D324E079]\n\tBaseThreadInitThunk [0x00007FFE3A01259D+29]\n\tRtlUserThreadStart [0x00007FFE3A16AF38+40]\n"
     ]
    }
   ],
   "source": [
    "from selenium import webdriver\n",
    "from selenium.webdriver.chrome.service import Service\n",
    "from selenium.webdriver.common.by import By\n",
    "from selenium.webdriver.support.ui import Select\n",
    "import time\n",
    "webiste = \"https://www.cardekho.com/\"\n",
    "path = \"C:/study material/guvi/Chromedriver/chromedriver.exe\"\n",
    "service = Service(path)\n",
    "driver = webdriver.Chrome(service=service)\n",
    "driver.get(webiste)\n",
    "Used_Cars = driver.find_element(By.XPATH, '/html/body/div[2]/div[1]/header/div[2]/div/div/nav/ul/li[2]')\n",
    "Used_Cars.click()\n",
    "Your_City = driver.find_element(By.XPATH,'/html/body/div[2]/div[1]/header/div[2]/div/div/nav/ul/li[2]/ul/li[2]/span/span')\n",
    "Your_City.click()\n",
    "\n"
   ]
  },
  {
   "cell_type": "code",
   "execution_count": null,
   "metadata": {},
   "outputs": [],
   "source": []
  }
 ],
 "metadata": {
  "kernelspec": {
   "display_name": "Python 3",
   "language": "python",
   "name": "python3"
  },
  "language_info": {
   "codemirror_mode": {
    "name": "ipython",
    "version": 3
   },
   "file_extension": ".py",
   "mimetype": "text/x-python",
   "name": "python",
   "nbconvert_exporter": "python",
   "pygments_lexer": "ipython3",
   "version": "3.12.4"
  }
 },
 "nbformat": 4,
 "nbformat_minor": 2
}
