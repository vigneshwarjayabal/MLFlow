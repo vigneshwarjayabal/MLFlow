{
 "cells": [
  {
   "cell_type": "markdown",
   "metadata": {},
   "source": [
    "**Web Scraping using python selenium**"
   ]
  },
  {
   "cell_type": "code",
   "execution_count": 16,
   "metadata": {},
   "outputs": [
    {
     "name": "stdout",
     "output_type": "stream",
     "text": [
      "[{'title': '2020 Tata Harrier XZA Plus AT BSVI', 'href': 'https://www.cardekho.com/used-car-details/used-Tata-harrier-xza-plus-at-bsvi-cars-Ahmedabad_10ba3875-2251-4c87-b321-d1471ea039d9.htm?adId=96&adType=41'}, {'title': '2023 Hyundai Grand i10 Nios Sportz', 'href': 'https://www.cardekho.com/used-car-details/used-Hyundai-grand-i10-nios-sportz-cars-Ahmedabad_23aee03a-1117-4511-a6ec-6734dbd08793.htm'}, {'title': '2024 MG Astor Sharp Pro CVT', 'href': 'https://www.cardekho.com/used-car-details/used-Mg-astor-sharp-pro-cvt-cars-Ahmedabad_3fdbe536-2a02-4297-be1b-4a87b0c4a5be.htm'}, {'title': '2021 Maruti Baleno Delta', 'href': 'https://www.cardekho.com/buy-used-car-details/used-Maruti-baleno-delta-cars-Ahmedabad_47ddca15-e2a3-41d8-9fa5-5708a5ecdb25.htm'}, {'title': '2013 Maruti Wagon R Stingray VXI', 'href': 'https://www.cardekho.com/used-car-details/used-Maruti-wagon-r-stingray-vxi-cars-Ahmedabad_25e71b23-7619-486e-bc45-599b3f92e7f2.htm'}]\n"
     ]
    }
   ],
   "source": [
    "from selenium import webdriver\n",
    "from selenium.webdriver.chrome.service import Service\n",
    "from selenium.webdriver.common.by import By\n",
    "from selenium.webdriver.support.ui import Select\n",
    "from selenium.webdriver.support.ui import WebDriverWait\n",
    "from selenium.webdriver.support import expected_conditions as EC\n",
    "from selenium.common.exceptions import StaleElementReferenceException\n",
    "\n",
    "import time\n",
    "webiste = \"https://www.cardekho.com/\"\n",
    "path = \"C:/study material/guvi/Chromedriver/chromedriver.exe\"\n",
    "service = Service(path)\n",
    "driver = webdriver.Chrome(service=service)\n",
    "driver.get(webiste)\n",
    "Used_Cars = driver.find_element(By.XPATH, '/html/body/div[2]/div[1]/header/div[2]/div/div/nav/ul/li[2]')\n",
    "Used_Cars.click()\n",
    "time.sleep(2)\n",
    "Your_City = driver.find_element(By.XPATH,'/html/body/div[2]/div[1]/header/div[2]/div/div/nav/ul/li[2]/ul/li[2]')\n",
    "Your_City.click()\n",
    "time.sleep(2)\n",
    "Cars = driver.find_element(By.XPATH, '/html/body/div[2]/div[1]/header/div[2]/div/div/nav/ul/li[2]/ul/li[2]/ul/li[1]')\n",
    "Cars.click()\n",
    "time.sleep(5)\n",
    "\n",
    "cars = driver.find_elements(By.CLASS_NAME, 'title')\n",
    "car_data = []\n",
    "\n",
    "for car in cars[:5]:\n",
    "    try:\n",
    "        # Wait for the link to be present before interacting with it\n",
    "        car_link = WebDriverWait(car, 10).until(\n",
    "            EC.presence_of_element_located((By.TAG_NAME, 'a'))\n",
    "        )\n",
    "        title = car_link.text\n",
    "        href = car_link.get_attribute('href')\n",
    "        car_data.append({'title': title, 'href': href})\n",
    "    except StaleElementReferenceException:\n",
    "        # If stale exception occurs, you can skip this iteration or handle it differently\n",
    "        print(\"Element became stale, skipping.\")\n",
    "        continue\n",
    "\n",
    "# Print the collected data\n",
    "print(car_data)\n",
    "\n",
    "driver.quit()\n",
    "\n",
    "\n",
    "\n",
    "\n"
   ]
  },
  {
   "cell_type": "code",
   "execution_count": 25,
   "metadata": {},
   "outputs": [
    {
     "name": "stdout",
     "output_type": "stream",
     "text": [
      "[{'title': '2020 Tata Harrier XZA Plus AT BSVI', 'href': 'https://www.cardekho.com/used-car-details/used-Tata-harrier-xza-plus-at-bsvi-cars-Ahmedabad_10ba3875-2251-4c87-b321-d1471ea039d9.htm?adId=96&adType=41'}, {'title': '2023 Hyundai Grand i10 Nios Sportz', 'href': 'https://www.cardekho.com/used-car-details/used-Hyundai-grand-i10-nios-sportz-cars-Ahmedabad_23aee03a-1117-4511-a6ec-6734dbd08793.htm'}, {'title': '2024 MG Astor Sharp Pro CVT', 'href': 'https://www.cardekho.com/used-car-details/used-Mg-astor-sharp-pro-cvt-cars-Ahmedabad_3fdbe536-2a02-4297-be1b-4a87b0c4a5be.htm'}, {'title': '2021 Maruti Baleno Delta', 'href': 'https://www.cardekho.com/buy-used-car-details/used-Maruti-baleno-delta-cars-Ahmedabad_47ddca15-e2a3-41d8-9fa5-5708a5ecdb25.htm'}, {'title': '2013 Maruti Wagon R Stingray VXI', 'href': 'https://www.cardekho.com/used-car-details/used-Maruti-wagon-r-stingray-vxi-cars-Ahmedabad_25e71b23-7619-486e-bc45-599b3f92e7f2.htm'}]\n"
     ]
    }
   ],
   "source": [
    "from selenium import webdriver\n",
    "from selenium.webdriver.chrome.service import Service\n",
    "from selenium.webdriver.common.by import By\n",
    "from selenium.webdriver.support.ui import WebDriverWait\n",
    "from selenium.webdriver.support import expected_conditions as EC\n",
    "from selenium.common.exceptions import StaleElementReferenceException, TimeoutException, ElementClickInterceptedException\n",
    "import time\n",
    "\n",
    "# URL and WebDriver setup\n",
    "website = \"https://www.cardekho.com/\"\n",
    "path = \"C:/study material/guvi/Chromedriver/chromedriver.exe\"\n",
    "service = Service(path)\n",
    "driver = webdriver.Chrome(service=service)\n",
    "driver.get(website)\n",
    "\n",
    "# Function to handle element click with retries in case of interception\n",
    "def click_element(element, retries=3):\n",
    "    for _ in range(retries):\n",
    "        try:\n",
    "            element.click()\n",
    "            return True\n",
    "        except ElementClickInterceptedException:\n",
    "            print(\"Element was blocked, retrying...\")\n",
    "            time.sleep(1)\n",
    "            driver.execute_script(\"window.scrollBy(0, 100);\")  # Scroll slightly to try again\n",
    "    return False\n",
    "\n",
    "# Navigate through the site to used cars\n",
    "used_cars_button = WebDriverWait(driver, 10).until(\n",
    "    EC.element_to_be_clickable((By.XPATH, '/html/body/div[2]/div[1]/header/div[2]/div/div/nav/ul/li[2]'))\n",
    ")\n",
    "used_cars_button.click()\n",
    "time.sleep(2)\n",
    "\n",
    "# Click on the \"Your City\" option\n",
    "your_city_button = WebDriverWait(driver, 10).until(\n",
    "    EC.element_to_be_clickable((By.XPATH, '/html/body/div[2]/div[1]/header/div[2]/div/div/nav/ul/li[2]/ul/li[2]'))\n",
    ")\n",
    "\n",
    "if not click_element(your_city_button):\n",
    "    print(\"Failed to click 'Your City' after multiple attempts.\")\n",
    "    driver.quit()\n",
    "\n",
    "# Select \"Cars\" from the list\n",
    "cars_button = WebDriverWait(driver, 10).until(\n",
    "    EC.element_to_be_clickable((By.XPATH, '/html/body/div[2]/div[1]/header/div[2]/div/div/nav/ul/li[2]/ul/li[2]/ul/li[1]'))\n",
    ")\n",
    "cars_button.click()\n",
    "time.sleep(5)\n",
    "\n",
    "# Scroll down to load more cars (if applicable)\n",
    "driver.execute_script(\"window.scrollBy(0, 300);\")\n",
    "time.sleep(3)\n",
    "\n",
    "# Fetch car details\n",
    "car_data = []\n",
    "try:\n",
    "    cars = driver.find_elements(By.CLASS_NAME, 'title')\n",
    "\n",
    "    for car in cars[:5]:  # Limit to the first 5 cars\n",
    "        try:\n",
    "            # Wait for the link to be present before interacting with it\n",
    "            car_link = WebDriverWait(car, 10).until(\n",
    "                EC.presence_of_element_located((By.TAG_NAME, 'a'))\n",
    "            )\n",
    "            title = car_link.text\n",
    "            href = car_link.get_attribute('href')\n",
    "            car_data.append({'title': title, 'href': href})\n",
    "        except StaleElementReferenceException:\n",
    "            # If stale exception occurs, skip this iteration\n",
    "            print(\"Element became stale, skipping.\")\n",
    "            continue\n",
    "        except TimeoutException:\n",
    "            # Handle timeout exception if element is not found in time\n",
    "            print(\"Timeout while fetching car details.\")\n",
    "            continue\n",
    "\n",
    "    # Print the collected data\n",
    "    print(car_data)\n",
    "except Exception as e:\n",
    "    print(f\"Error occurred: {e}\")\n",
    "\n",
    "# Close the browser\n",
    "driver.quit()\n"
   ]
  },
  {
   "cell_type": "code",
   "execution_count": 26,
   "metadata": {},
   "outputs": [
    {
     "data": {
      "text/plain": [
       "5"
      ]
     },
     "execution_count": 26,
     "metadata": {},
     "output_type": "execute_result"
    }
   ],
   "source": [
    "len(car_data)"
   ]
  },
  {
   "cell_type": "code",
   "execution_count": 33,
   "metadata": {},
   "outputs": [
    {
     "name": "stdout",
     "output_type": "stream",
     "text": [
      "Timeout while fetching car details.\n",
      "Element became stale, skipping.\n",
      "Element became stale, skipping.\n",
      "Element became stale, skipping.\n",
      "Element became stale, skipping.\n",
      "Element became stale, skipping.\n",
      "Element became stale, skipping.\n",
      "Element became stale, skipping.\n",
      "Element became stale, skipping.\n",
      "Element became stale, skipping.\n",
      "[{'title': '2020 Tata Harrier XZA Plus AT BSVI', 'href': 'https://www.cardekho.com/used-car-details/used-Tata-harrier-xza-plus-at-bsvi-cars-Ahmedabad_10ba3875-2251-4c87-b321-d1471ea039d9.htm?adId=96&adType=41'}, {'title': '2023 Hyundai Grand i10 Nios Sportz', 'href': 'https://www.cardekho.com/used-car-details/used-Hyundai-grand-i10-nios-sportz-cars-Ahmedabad_23aee03a-1117-4511-a6ec-6734dbd08793.htm'}, {'title': '2024 MG Astor Sharp Pro CVT', 'href': 'https://www.cardekho.com/used-car-details/used-Mg-astor-sharp-pro-cvt-cars-Ahmedabad_3fdbe536-2a02-4297-be1b-4a87b0c4a5be.htm'}, {'title': '2021 Maruti Baleno Delta', 'href': 'https://www.cardekho.com/buy-used-car-details/used-Maruti-baleno-delta-cars-Ahmedabad_47ddca15-e2a3-41d8-9fa5-5708a5ecdb25.htm'}, {'title': '2013 Maruti Wagon R Stingray VXI', 'href': 'https://www.cardekho.com/used-car-details/used-Maruti-wagon-r-stingray-vxi-cars-Ahmedabad_25e71b23-7619-486e-bc45-599b3f92e7f2.htm'}, {'title': '2020 Maruti Wagon R LXI', 'href': 'https://www.cardekho.com/buy-used-car-details/used-Maruti-wagon-r-lxi-cars-Ahmedabad_6387105e-64b2-4d42-b088-3e2632731862.htm'}, {'title': '2016 Maruti Baleno 1.2 Zeta', 'href': 'https://www.cardekho.com/used-car-details/used-Maruti-baleno-12-zeta-cars-Ahmedabad_d596fadc-ea6e-4da6-b620-0c9e4ca0c2f3.htm'}, {'title': '2016 Honda Brio S MT', 'href': 'https://www.cardekho.com/buy-used-car-details/used-Honda-brio-s-mt-cars-Ahmedabad_dc5bffdf-8304-45c5-944e-e51ce7e55642.htm'}, {'title': '2006 Honda City CVT', 'href': 'https://www.cardekho.com/used-car-details/used-Honda-city-cvt-cars-Ahmedabad_ebf3abcd-918d-43ab-b68c-0fd15b882034.htm'}, {'title': '2019 Maruti Swift AMT VXI', 'href': 'https://www.cardekho.com/used-car-details/used-Maruti-swift-amt-vxi-cars-Ahmedabad_8b0d8629-c113-4a6c-8706-ea9794c0df76.htm'}, {'title': '2019 Hyundai i20 Sportz Plus BSIV', 'href': 'https://www.cardekho.com/used-car-details/used-Hyundai-i20-sportz-plus-bsiv-cars-Ahmedabad_92f2f069-eb8f-4acb-9c8e-9de158d79604.htm'}, {'title': '2018 Renault KWID RXL', 'href': 'https://www.cardekho.com/buy-used-car-details/used-Renault-kwid-rxl-cars-Ahmedabad_3697a299-784e-423c-8b5f-d677f38de038.htm'}, {'title': '2021 Maruti Baleno Delta', 'href': 'https://www.cardekho.com/buy-used-car-details/used-Maruti-baleno-delta-cars-Ahmedabad_e1f68128-cb25-43f2-b116-afaae88f62e2.htm'}, {'title': '2015 Hyundai i20 Sportz Option 1.2', 'href': 'https://www.cardekho.com/used-car-details/used-Hyundai-i20-sportz-option-12-cars-Ahmedabad_2162df5d-597a-4ff9-b1ff-74d1eeb86b64.htm'}, {'title': '2017 Honda WR-V i-DTEC VX', 'href': 'https://www.cardekho.com/used-car-details/used-Honda-wr-v-i-dtec-vx-cars-Ahmedabad_a71cfc35-a06b-4621-980d-509ed3e19005.htm'}, {'title': '2021 Renault Triber RXZ', 'href': 'https://www.cardekho.com/buy-used-car-details/used-Renault-triber-rxz-cars-Ahmedabad_ee85066f-cd9f-4e49-b99e-a209a366de9a.htm'}, {'title': '2020 Hyundai Grand i10 Nios Sportz', 'href': 'https://www.cardekho.com/used-car-details/used-Hyundai-grand-i10-nios-sportz-cars-Ahmedabad_8bb06274-1af8-4098-8db4-2cdc3223bac6.htm'}, {'title': '2017 Maruti Baleno 1.2 Delta', 'href': 'https://www.cardekho.com/buy-used-car-details/used-Maruti-baleno-12-delta-cars-Ahmedabad_2155bc8a-46f2-42b4-945d-198d5d00edf1.htm'}, {'title': '2022 Mahindra Thar LX 4WD Hard Top AT BSVI', 'href': 'https://www.cardekho.com/used-car-details/used-Mahindra-thar-lx-4wd-hard-top-at-bsvi-cars-Ahmedabad_367add69-018e-467a-9cc4-c27e48994ae1.htm'}, {'title': '2015 Hyundai Grand i10 Magna', 'href': 'https://www.cardekho.com/used-car-details/used-Hyundai-grand-i10-magna-cars-Ahmedabad_0d90e7e8-faec-414f-a2b2-f103ab8518cc.htm'}, {'title': '2016 Maruti Baleno 1.2 Sigma', 'href': 'https://www.cardekho.com/used-car-details/used-Maruti-baleno-12-sigma-cars-Ahmedabad_507660b0-5447-4fba-b024-32fdae9b5af0.htm'}, {'title': '2014 Maruti Wagon R VXI BS IV', 'href': 'https://www.cardekho.com/buy-used-car-details/used-Maruti-wagon-r-vxi-bs-iv-cars-Ahmedabad_54224702-e188-4eac-900f-ac4ec363aedc.htm'}, {'title': '2018 Honda Amaze S Petrol BSIV', 'href': 'https://www.cardekho.com/buy-used-car-details/used-Honda-amaze-s-petrol-bsiv-cars-Ahmedabad_71bf29df-5f15-42cb-824c-7a4ace1489b0.htm'}, {'title': '2018 Maruti Swift AMT ZXI', 'href': 'https://www.cardekho.com/used-car-details/used-Maruti-swift-amt-zxi-cars-Ahmedabad_a6ceca6e-31d8-42cf-a5dc-c79bc779ffda.htm'}, {'title': '2017 Ford Ecosport 1.5 Ti VCT MT Trend BSIV', 'href': 'https://www.cardekho.com/buy-used-car-details/used-Ford-ecosport-15-ti-vct-mt-trend-bsiv-cars-Ahmedabad_7f932c58-367a-4d24-a92e-5092c180a958.htm'}, {'title': '2020 Maruti Swift Dzire VXI 1.2', 'href': 'https://www.cardekho.com/buy-used-car-details/used-Maruti-swift-dzire-vxi-12-cars-Ahmedabad_12a6c737-c41b-41b8-b5e0-2510e135d004.htm'}, {'title': '2019 Honda Amaze S Petrol BSIV', 'href': 'https://www.cardekho.com/used-car-details/used-Honda-amaze-s-petrol-bsiv-cars-Ahmedabad_3e37e764-bde1-4113-87aa-90a31298d818.htm'}, {'title': '2017 Ford Ecosport 1.5 Ti VCT MT Trend BSIV', 'href': 'https://www.cardekho.com/used-car-details/used-Ford-ecosport-15-ti-vct-mt-trend-bsiv-cars-Ahmedabad_79656cdf-ea60-4fab-934b-d6399b274a1f.htm'}, {'title': '2014 Hyundai i20 Asta 1.2', 'href': 'https://www.cardekho.com/used-car-details/used-Hyundai-i20-asta-12-cars-Ahmedabad_9fdbf74b-cd7f-4686-b1e9-f168db115715.htm'}, {'title': '2022 Maruti Celerio VXI', 'href': 'https://www.cardekho.com/buy-used-car-details/used-Maruti-celerio-vxi-cars-Ahmedabad_aea4da11-1095-48e0-a825-a660c82d00a6.htm'}, {'title': '2017 Hyundai Grand i10 1.2 Kappa Sportz BSIV', 'href': 'https://www.cardekho.com/buy-used-car-details/used-Hyundai-grand-i10-12-kappa-sportz-bsiv-cars-Ahmedabad_5cd75f12-07a7-4d84-8711-16c4d6fbc91d.htm'}, {'title': '2017 Volkswagen Ameo 1.2 MPI Highline Plus', 'href': 'https://www.cardekho.com/buy-used-car-details/used-Volkswagen-ameo-12-mpi-highline-plus-cars-Ahmedabad_fb082522-c191-405a-b3b8-182e6c4e413e.htm'}, {'title': '2018 Tata Nexon 1.2 Revotron XM', 'href': 'https://www.cardekho.com/buy-used-car-details/used-Tata-nexon-12-revotron-xm-cars-Ahmedabad_53d664a3-1ffa-44f8-9017-d9112c424e81.htm'}, {'title': '2018 Maruti Baleno 1.2 CVT Alpha', 'href': 'https://www.cardekho.com/used-car-details/used-Maruti-baleno-12-cvt-alpha-cars-Ahmedabad_8f1f44c5-9e96-48ce-94f3-8508d6694447.htm'}, {'title': '2016 Hyundai Grand i10 Sportz', 'href': 'https://www.cardekho.com/used-car-details/used-Hyundai-grand-i10-sportz-cars-Ahmedabad_39bdfddf-0310-46ae-a786-b3c19e9ef8bb.htm'}, {'title': '2014 Hyundai i20 Asta Optional with Sunroof 1.2', 'href': 'https://www.cardekho.com/used-car-details/used-Hyundai-i20-asta-optional-with-sunroof-12-cars-Ahmedabad_6dc3aab8-6c6d-4d39-add1-054b2e9c8e3e.htm'}, {'title': '2019 Renault Triber RXZ', 'href': 'https://www.cardekho.com/buy-used-car-details/used-Renault-triber-rxz-cars-Ahmedabad_b20dfc62-3972-4b3e-8123-7ef4ee6f6609.htm'}, {'title': '2015 Maruti S Cross DDiS 200 Alpha', 'href': 'https://www.cardekho.com/used-car-details/used-Maruti-s-cross-ddis-200-alpha-cars-Ahmedabad_2e6552a6-ed5b-46b3-a76d-cdb76d8ec6fd.htm'}, {'title': '2017 Hyundai Creta 1.6 VTVT SX Plus', 'href': 'https://www.cardekho.com/buy-used-car-details/used-Hyundai-creta-16-vtvt-sx-plus-cars-Ahmedabad_4ceb5b4c-7dae-496c-9a41-b5d021823445.htm'}, {'title': '2015 Hyundai Grand i10 Sportz', 'href': 'https://www.cardekho.com/buy-used-car-details/used-Hyundai-grand-i10-sportz-cars-Ahmedabad_6bfa43f3-d48d-4178-a380-f3f985141107.htm'}, {'title': '2016 Hyundai i20 Sportz 1.2', 'href': 'https://www.cardekho.com/buy-used-car-details/used-Hyundai-i20-sportz-12-cars-Ahmedabad_ee3e7866-2281-4e25-ba4a-f435ac632375.htm'}, {'title': '2020 Hyundai Aura S', 'href': 'https://www.cardekho.com/used-car-details/used-Hyundai-aura-s-cars-Ahmedabad_5f15170c-0d00-4de1-a85d-e80c7d121bee.htm'}, {'title': '2023 Audi Q3 Premium Plus', 'href': 'https://www.cardekho.com/used-car-details/used-Audi-q3-premium-plus-cars-Ahmedabad_bb8097a5-b0e7-4772-ae12-a6c30cbdd049.htm'}, {'title': '2022 Maruti Celerio ZXI', 'href': 'https://www.cardekho.com/buy-used-car-details/used-Maruti-celerio-zxi-cars-Ahmedabad_e997916d-5868-4cba-b4c1-e589fd8df94d.htm'}, {'title': '2016 Hyundai Grand i10 Sportz', 'href': 'https://www.cardekho.com/buy-used-car-details/used-Hyundai-grand-i10-sportz-cars-Ahmedabad_21ce6fe4-ae78-405f-bf67-a9188615c825.htm'}, {'title': '2015 Hyundai Grand i10 Magna', 'href': 'https://www.cardekho.com/used-car-details/used-Hyundai-grand-i10-magna-cars-Ahmedabad_eec34c6d-031f-4c7a-85fd-e965191ef83f.htm'}, {'title': '2020 Kia Sonet HTK Plus BSVI', 'href': 'https://www.cardekho.com/used-car-details/used-Kia-sonet-htk-plus-bsvi-cars-Ahmedabad_178c44be-fade-4a02-b007-30d4a5e99bec.htm'}, {'title': '2021 Maruti Alto 800 LXI Opt BSVI', 'href': 'https://www.cardekho.com/buy-used-car-details/used-Maruti-alto-800-lxi-opt-bsvi-cars-Ahmedabad_33e1efc5-f0ab-482e-a7a2-57c02358b0f5.htm'}, {'title': '2014 Honda Amaze E i-Dtech', 'href': 'https://www.cardekho.com/used-car-details/used-Honda-amaze-e-i-dtech-cars-Ahmedabad_79c24f1a-335e-47c5-a5a7-4f6621e823ef.htm'}, {'title': '2018 Honda WR-V i-DTEC VX', 'href': 'https://www.cardekho.com/used-car-details/used-Honda-wr-v-i-dtec-vx-cars-Ahmedabad_065ef15c-647b-401c-96e4-bf41c77168cf.htm'}, {'title': '2013 Audi A4 2.0 TDI', 'href': 'https://www.cardekho.com/used-car-details/used-Audi-a4-20-tdi-cars-Ahmedabad_b2ccbf62-1157-496d-8683-3a9e53f85a5b.htm'}, {'title': '2013 Hyundai Grand i10 CRDi Magna', 'href': 'https://www.cardekho.com/used-car-details/used-Hyundai-grand-i10-crdi-magna-cars-Ahmedabad_d309f6f3-8b7c-4e14-9f8c-ca9cb2301478.htm'}, {'title': '2015 Maruti Swift LXI Option', 'href': 'https://www.cardekho.com/used-car-details/used-Maruti-swift-lxi-option-cars-Ahmedabad_dd2ea3a0-b0e2-4d13-8719-4003f3604e3b.htm'}, {'title': '2016 Hyundai Xcent 1.2 Kappa S', 'href': 'https://www.cardekho.com/used-car-details/used-Hyundai-xcent-12-kappa-s-cars-Ahmedabad_d6fbe529-48a5-456a-8351-c0cc14c2efd9.htm'}, {'title': '2016 Maruti Alto 800 LXI', 'href': 'https://www.cardekho.com/buy-used-car-details/used-Maruti-alto-800-lxi-cars-Ahmedabad_70fac2fb-0731-45b9-bde2-097705dc8a7d.htm'}, {'title': '2018 Hyundai EON Era Plus', 'href': 'https://www.cardekho.com/buy-used-car-details/used-Hyundai-eon-era-plus-cars-Ahmedabad_d4a8fcd4-acd4-4885-9aaa-608b0626370f.htm'}, {'title': '2018 Maruti Celerio ZXI AMT BSIV', 'href': 'https://www.cardekho.com/used-car-details/used-Maruti-celerio-zxi-amt-bsiv-cars-Ahmedabad_b9f5f192-fdbf-42b1-8dad-1220f691bbda.htm'}, {'title': '2019 Honda City i-VTEC V', 'href': 'https://www.cardekho.com/buy-used-car-details/used-Honda-city-i-vtec-v-cars-Ahmedabad_a5594cbb-7e4a-45ad-85f7-2987064fec9a.htm'}, {'title': '2018 Maruti Ignis 1.2 AMT Delta BSIV', 'href': 'https://www.cardekho.com/used-car-details/used-Maruti-ignis-12-amt-delta-bsiv-cars-Ahmedabad_85bd1a7f-5a52-46fe-b402-2f8f2a42860e.htm'}, {'title': '2019 Hyundai Grand i10 1.2 Kappa Magna BSIV', 'href': 'https://www.cardekho.com/used-car-details/used-Hyundai-grand-i10-12-kappa-magna-bsiv-cars-Ahmedabad_613bf035-7000-4514-aaf4-9fca302c6387.htm'}, {'title': '2016 Maruti S Cross DDiS 200 Zeta', 'href': 'https://www.cardekho.com/used-car-details/used-Maruti-s-cross-ddis-200-zeta-cars-Ahmedabad_7bc63a25-86c4-4b1d-a6dc-3780edf379c3.htm'}, {'title': '2017 Renault KWID 1.0 RXT', 'href': 'https://www.cardekho.com/used-car-details/used-Renault-kwid-10-rxt-cars-Ahmedabad_c6bd6e35-1e3f-48a3-a4bf-97560a3c7183.htm'}, {'title': '2017 Honda Amaze S Petrol BSIV', 'href': 'https://www.cardekho.com/buy-used-car-details/used-Honda-amaze-s-petrol-bsiv-cars-Ahmedabad_a066b135-7a66-47c6-8a5b-55c901d89735.htm'}, {'title': '2018 Mercedes-Benz GLE 250d', 'href': 'https://www.cardekho.com/used-car-details/used-Mercedes-benz-gle-250d-cars-Ahmedabad_1fa8ed40-2b1f-4b62-8b57-52fab0137af0.htm'}, {'title': '2022 Honda Amaze 2nd Gen VX CVT BSVI', 'href': 'https://www.cardekho.com/used-car-details/used-Honda-amaze-2nd-gen-vx-cvt-bsvi-cars-Ahmedabad_6b8fae2f-af54-47c1-89bf-7d795980bfd5.htm'}, {'title': '2015 Hyundai Grand i10 Asta', 'href': 'https://www.cardekho.com/buy-used-car-details/used-Hyundai-grand-i10-asta-cars-Ahmedabad_497be760-becf-4f31-921b-f073a982e2d4.htm'}, {'title': '2019 Maruti Alto 800 LXI BSIV', 'href': 'https://www.cardekho.com/used-car-details/used-Maruti-alto-800-lxi-bsiv-cars-Ahmedabad_fc402237-2d81-4e59-b609-7bf90f60c8c9.htm'}, {'title': '2023 MG Gloster Savvy 4x2 7Str', 'href': 'https://www.cardekho.com/used-car-details/used-Mg-gloster-savvy-4x2-7str-cars-Ahmedabad_d18727fd-b163-4ffd-b18f-17d75dab0599.htm'}, {'title': '2019 Maruti Baleno 1.2 Delta', 'href': 'https://www.cardekho.com/buy-used-car-details/used-Maruti-baleno-12-delta-cars-Ahmedabad_46affa7c-b744-4974-b890-20fa70e08b2c.htm'}, {'title': '2021 Hyundai Grand i10 Nios Magna', 'href': 'https://www.cardekho.com/buy-used-car-details/used-Hyundai-grand-i10-nios-magna-cars-Ahmedabad_84cb9de3-c37b-47bf-a1b3-485335550001.htm'}, {'title': '2016 Maruti Celerio ZXI AMT', 'href': 'https://www.cardekho.com/buy-used-car-details/used-Maruti-celerio-zxi-amt-cars-Ahmedabad_049bb2fe-1559-4e5a-bdd9-081ff497a8fb.htm'}, {'title': '2019 Maruti Alto 800 LXI', 'href': 'https://www.cardekho.com/buy-used-car-details/used-Maruti-alto-800-lxi-cars-Ahmedabad_692f0ea4-b945-4ab1-8893-798df0033c54.htm'}, {'title': '2019 Maruti Ciaz Alpha BSIV', 'href': 'https://www.cardekho.com/buy-used-car-details/used-Maruti-ciaz-alpha-bsiv-cars-Ahmedabad_2f24695f-897d-46a6-a76e-fd59db3c050f.htm'}, {'title': '2022 Maruti Wagon R LXI BSVI', 'href': 'https://www.cardekho.com/buy-used-car-details/used-Maruti-wagon-r-lxi-bsvi-cars-Ahmedabad_62b824fe-3961-45bf-955d-4a54370ee0c7.htm'}, {'title': '2019 Renault Duster Petrol RXS CVT', 'href': 'https://www.cardekho.com/buy-used-car-details/used-Renault-duster-petrol-rxs-cvt-cars-Ahmedabad_ecb6f535-3b8f-47b1-9dc4-4c018f302289.htm'}, {'title': '2021 Renault Triber RXZ', 'href': 'https://www.cardekho.com/buy-used-car-details/used-Renault-triber-rxz-cars-Ahmedabad_ccb11b54-bbe2-45d8-94e6-ecf124e2debf.htm'}, {'title': '2017 Maruti Baleno 1.2 CVT Zeta', 'href': 'https://www.cardekho.com/used-car-details/used-Maruti-baleno-12-cvt-zeta-cars-Ahmedabad_d631a2fb-27a3-415b-8c22-2037b41cbc7a.htm'}, {'title': '2020 Maruti Wagon R VXI', 'href': 'https://www.cardekho.com/buy-used-car-details/used-Maruti-wagon-r-vxi-cars-Ahmedabad_e87b5dec-6a38-481a-81f3-4e623e2224ea.htm'}, {'title': '2021 Renault Triber RXT', 'href': 'https://www.cardekho.com/buy-used-car-details/used-Renault-triber-rxt-cars-Ahmedabad_9e0a2e24-bdc6-43fb-867d-75305369c8b7.htm'}, {'title': '2022 Hyundai Grand i10 Nios Sportz Dual Tone', 'href': 'https://www.cardekho.com/used-car-details/used-Hyundai-grand-i10-nios-sportz-dual-tone-cars-Ahmedabad_0898f025-7b7e-4937-9c3d-e5211bb63712.htm'}]\n"
     ]
    }
   ],
   "source": [
    "from selenium import webdriver\n",
    "from selenium.webdriver.chrome.service import Service\n",
    "from selenium.webdriver.common.by import By\n",
    "from selenium.webdriver.support.ui import WebDriverWait\n",
    "from selenium.webdriver.support import expected_conditions as EC\n",
    "from selenium.common.exceptions import StaleElementReferenceException, TimeoutException\n",
    "import time\n",
    "\n",
    "# URL and WebDriver setup\n",
    "website = \"https://www.cardekho.com/\"\n",
    "path = \"C:/study material/guvi/Chromedriver/chromedriver.exe\"\n",
    "service = Service(path)\n",
    "driver = webdriver.Chrome(service=service)\n",
    "driver.get(website)\n",
    "\n",
    "# Function to handle element click with retries in case of interception\n",
    "def click_element(element, retries=3):\n",
    "    for _ in range(retries):\n",
    "        try:\n",
    "            element.click()\n",
    "            return True\n",
    "        except ElementClickInterceptedException:\n",
    "            print(\"Element was blocked, retrying...\")\n",
    "            time.sleep(1)\n",
    "            driver.execute_script(\"window.scrollBy(0, 100);\")  # Scroll slightly to try again\n",
    "    return False\n",
    "\n",
    "# Navigate through the site to used cars\n",
    "used_cars_button = WebDriverWait(driver, 10).until(\n",
    "    EC.element_to_be_clickable((By.XPATH, '/html/body/div[2]/div[1]/header/div[2]/div/div/nav/ul/li[2]'))\n",
    ")\n",
    "used_cars_button.click()\n",
    "time.sleep(2)\n",
    "\n",
    "# Click on the \"Your City\" option\n",
    "your_city_button = WebDriverWait(driver, 10).until(\n",
    "    EC.element_to_be_clickable((By.XPATH, '/html/body/div[2]/div[1]/header/div[2]/div/div/nav/ul/li[2]/ul/li[2]'))\n",
    ")\n",
    "\n",
    "if not click_element(your_city_button):\n",
    "    print(\"Failed to click 'Your City' after multiple attempts.\")\n",
    "    driver.quit()\n",
    "\n",
    "# Select \"Cars\" from the list\n",
    "cars_button = WebDriverWait(driver, 10).until(\n",
    "    EC.element_to_be_clickable((By.XPATH, '/html/body/div[2]/div[1]/header/div[2]/div/div/nav/ul/li[2]/ul/li[2]/ul/li[1]'))\n",
    ")\n",
    "cars_button.click()\n",
    "time.sleep(5)\n",
    "\n",
    "# Scroll to the bottom of the page to load all cars\n",
    "scroll_pause_time = 10  # Time to wait after scrolling\n",
    "last_height = driver.execute_script(\"return document.body.scrollHeight\")\n",
    "\n",
    "while True:\n",
    "    driver.execute_script(\"window.scrollTo(0, document.body.scrollHeight);\")\n",
    "    time.sleep(scroll_pause_time)  # Wait for the page to load new cars\n",
    "    new_height = driver.execute_script(\"return document.body.scrollHeight\")\n",
    "    \n",
    "    if new_height == last_height:\n",
    "        break\n",
    "    last_height = new_height\n",
    "\n",
    "# Fetch car details\n",
    "car_data = []\n",
    "try:\n",
    "    # Find all the car links on the page\n",
    "    cars = driver.find_elements(By.CLASS_NAME, 'title')\n",
    "\n",
    "    for car in cars:  # Loop through all found cars\n",
    "        try:\n",
    "            # Wait for the link to be present before interacting with it\n",
    "            car_link = WebDriverWait(car, 10).until(\n",
    "                EC.presence_of_element_located((By.TAG_NAME, 'a'))\n",
    "            )\n",
    "            title = car_link.text\n",
    "            href = car_link.get_attribute('href')\n",
    "            car_data.append({'title': title, 'href': href})\n",
    "        except StaleElementReferenceException:\n",
    "            # If stale exception occurs, skip this iteration\n",
    "            print(\"Element became stale, skipping.\")\n",
    "            continue\n",
    "        except TimeoutException:\n",
    "            # Handle timeout exception if element is not found in time\n",
    "            print(\"Timeout while fetching car details.\")\n",
    "            continue\n",
    "\n",
    "    # Print the collected data\n",
    "    print(car_data)\n",
    "except Exception as e:\n",
    "    print(f\"Error occurred: {e}\")\n",
    "\n",
    "# Close the browser\n",
    "driver.quit()\n"
   ]
  },
  {
   "cell_type": "code",
   "execution_count": 34,
   "metadata": {},
   "outputs": [
    {
     "data": {
      "text/plain": [
       "80"
      ]
     },
     "execution_count": 34,
     "metadata": {},
     "output_type": "execute_result"
    }
   ],
   "source": [
    "len(car_data)\n"
   ]
  },
  {
   "cell_type": "code",
   "execution_count": null,
   "metadata": {},
   "outputs": [],
   "source": []
  }
 ],
 "metadata": {
  "kernelspec": {
   "display_name": "Python 3",
   "language": "python",
   "name": "python3"
  },
  "language_info": {
   "codemirror_mode": {
    "name": "ipython",
    "version": 3
   },
   "file_extension": ".py",
   "mimetype": "text/x-python",
   "name": "python",
   "nbconvert_exporter": "python",
   "pygments_lexer": "ipython3",
   "version": "3.12.4"
  }
 },
 "nbformat": 4,
 "nbformat_minor": 2
}
