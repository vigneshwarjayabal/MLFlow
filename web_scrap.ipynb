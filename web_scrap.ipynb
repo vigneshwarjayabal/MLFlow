{
 "cells": [
  {
   "cell_type": "code",
   "execution_count": 37,
   "metadata": {},
   "outputs": [
    {
     "name": "stdout",
     "output_type": "stream",
     "text": [
      "Option selected: \n"
     ]
    }
   ],
   "source": [
    "from selenium import webdriver\n",
    "from selenium.webdriver.chrome.service import Service\n",
    "from selenium.webdriver.common.by import By\n",
    "from selenium.webdriver.support.ui import Select\n",
    "from selenium.webdriver.support.ui import WebDriverWait\n",
    "from selenium.webdriver.common.keys import Keys\n",
    "from selenium.webdriver.support import expected_conditions as EC\n",
    "import time\n",
    "website = \"https://www.cardekho.com/\"\n",
    "path = \"C:/study material/guvi/Chromedriver/chromedriver.exe\"\n",
    "service = Service(path)\n",
    "driver = webdriver.Chrome(service=service)\n",
    "driver.get(website)\n",
    "\n",
    "dropdown_toggle = driver.find_element(By.CLASS_NAME, \"dropdown-toggle\")\n",
    "dropdown_toggle.click()\n",
    "time.sleep(2)  # Add this temporarily to debug\n",
    "\n",
    "# Use JavaScript to ensure the dropdown menu is visible\n",
    "driver.execute_script(\"document.querySelector('.dropdown-menu').style.display = 'block';\")\n",
    "\n",
    "dropdown_menu = WebDriverWait(driver, 10).until(\n",
    "    EC.presence_of_element_located((By.CLASS_NAME, \"dropdown-menu\"))\n",
    ")\n",
    "\n",
    "time.sleep(4)\n",
    "\n",
    "options = dropdown_menu.find_elements(By.TAG_NAME, \"div\")\n",
    "for option in options:\n",
    "    if option.text == \"Used\": \n",
    "        option.click()\n",
    "        print(\"Option selected:\", option.text)\n",
    "        break\n",
    "\n",
    "time.sleep(5)\n",
    "\n",
    "search_bar = driver.find_element(By.ID, 'cardekhosearchtext')  \n",
    "search_bar.send_keys(\"Used Cars In Chennai\")\n",
    "search_bar.send_keys(Keys.RETURN)\n",
    "\n",
    "# driver.quit()\n"
   ]
  },
  {
   "cell_type": "code",
   "execution_count": null,
   "metadata": {},
   "outputs": [],
   "source": []
  }
 ],
 "metadata": {
  "kernelspec": {
   "display_name": "Python 3",
   "language": "python",
   "name": "python3"
  },
  "language_info": {
   "codemirror_mode": {
    "name": "ipython",
    "version": 3
   },
   "file_extension": ".py",
   "mimetype": "text/x-python",
   "name": "python",
   "nbconvert_exporter": "python",
   "pygments_lexer": "ipython3",
   "version": "3.12.4"
  }
 },
 "nbformat": 4,
 "nbformat_minor": 2
}
